{
 "cells": [
  {
   "cell_type": "code",
   "execution_count": 1,
   "metadata": {},
   "outputs": [],
   "source": [
    "# %pip install salabim\n",
    "import salabim as sim"
   ]
  },
  {
   "cell_type": "markdown",
   "metadata": {},
   "source": [
    "# The M/M/k/N queue\n",
    "\n",
    "We consider an M/M/5/10 queue with Poisson arrivals, exponentially distributed service times,\n",
    "$k=5$ servers, and $N-k = 5$ additional buffer spaces."
   ]
  },
  {
   "cell_type": "code",
   "execution_count": 2,
   "metadata": {},
   "outputs": [
    {
     "name": "stdout",
     "output_type": "stream",
     "text": [
      "100000 14130 0.1413 0\n",
      "200000 28076 0.14038 0\n",
      "300000 41616 0.13872 0\n",
      "400000 55212 0.13803 3\n",
      "500000 69093 0.138186 1\n",
      "600000 83055 0.138425 1\n",
      "700000 96719 0.13817 2\n",
      "800000 110034 0.1375425 4\n",
      "900000 123650 0.1373888888888889 0\n",
      "1000000 137796 0.137796 0\n",
      "1100000 152046 0.13822363636363635 0\n",
      "1200000 165690 0.138075 0\n",
      "\n",
      "# Arrivals: 1201530\n",
      "Blocking probability: 0.13806896207335648\n",
      "Delay probability: 0.5540336071508827\n",
      "\n",
      "Mean server occupancy: 0.861315364545513\n",
      "Mean buffer length: 1.382593343734158\n",
      "Mean time in buffer: 0.40050558605557673\n"
     ]
    }
   ],
   "source": [
    "# Parameters\n",
    "lambd = 4.0 # Arrival rate\n",
    "mu = 1.0 # Service rate\n",
    "capacity = 4\n",
    "buffer = 4\n",
    "\n",
    "env = sim.Environment()\n",
    "servers = sim.Resource('servers', capacity=capacity)\n",
    "\n",
    "# Inter-arrival and service time distributions\n",
    "inter_arr_dist = sim.Exponential(rate=lambd)\n",
    "service_dist = sim.Exponential(rate=mu)\n",
    "\n",
    "# Counters\n",
    "env.nArr = 0\n",
    "env.nServed = 0\n",
    "env.nBlocked = 0\n",
    "env.nDelayed = 0\n",
    "\n",
    "class Request(sim.Component):\n",
    "    def process(self):\n",
    "        env.nArr += 1\n",
    "        if env.nArr % 100_000 == 0:\n",
    "            print(env.nArr, env.nBlocked, env.nBlocked / env.nArr, len(servers.requesters()))\n",
    "\n",
    "        # Admit to system if there is an available server or buffer space\n",
    "        if servers.available_quantity() > 0 or servers.requesters().length() < buffer:\n",
    "            if servers.available_quantity() == 0:\n",
    "                env.nDelayed += 1\n",
    "            yield self.request(servers)\n",
    "            yield self.hold(service_dist.sample())\n",
    "            env.nServed += 1\n",
    "        else:\n",
    "            env.nBlocked += 1\n",
    "            yield self.cancel()\n",
    "\n",
    "sim.ComponentGenerator(Request, iat=inter_arr_dist)\n",
    "env.run(till=3e5)\n",
    "\n",
    "print()\n",
    "print('# Arrivals:', env.nArr)\n",
    "print('Blocking probability:', env.nBlocked / env.nArr)\n",
    "print('Delay probability:', env.nDelayed / env.nArr)\n",
    "print()\n",
    "print('Mean server occupancy:', servers.occupancy.mean()) # busy servers / capacity\n",
    "print('Mean buffer length:', servers.requesters().length.mean())\n",
    "print('Mean time in buffer:', servers.requesters().length_of_stay.mean())"
   ]
  },
  {
   "cell_type": "markdown",
   "metadata": {},
   "source": [
    "To compute theoretical values, refer to Section 12.4 of [this book](https://arxiv.org/pdf/1307.2968v25.pdf#page=200) by Prof. Moshe Zukerman."
   ]
  },
  {
   "cell_type": "code",
   "execution_count": null,
   "metadata": {},
   "outputs": [],
   "source": []
  }
 ],
 "metadata": {
  "kernelspec": {
   "display_name": "Python 3.10.7 64-bit (microsoft store)",
   "language": "python",
   "name": "python3"
  },
  "language_info": {
   "codemirror_mode": {
    "name": "ipython",
    "version": 3
   },
   "file_extension": ".py",
   "mimetype": "text/x-python",
   "name": "python",
   "nbconvert_exporter": "python",
   "pygments_lexer": "ipython3",
   "version": "3.10.7"
  },
  "orig_nbformat": 4,
  "vscode": {
   "interpreter": {
    "hash": "366dff318618e66a8da036e243cb6b21a2423cfc5feffda4dce2c586496efa09"
   }
  }
 },
 "nbformat": 4,
 "nbformat_minor": 2
}
