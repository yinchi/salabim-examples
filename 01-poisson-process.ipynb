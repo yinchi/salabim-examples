{
 "cells": [
  {
   "cell_type": "code",
   "execution_count": 1,
   "metadata": {},
   "outputs": [],
   "source": [
    "# %pip install salabim"
   ]
  },
  {
   "cell_type": "markdown",
   "metadata": {},
   "source": [
    "# The Poisson process"
   ]
  },
  {
   "cell_type": "code",
   "execution_count": 2,
   "metadata": {},
   "outputs": [],
   "source": [
    "import salabim as sim"
   ]
  },
  {
   "cell_type": "markdown",
   "metadata": {},
   "source": [
    "The Poisson process has exponentially distributed inter-arrival times.\n",
    "Additionally, the number of arrivals in a time interval of unit length\n",
    "follows a Poisson distribution with a mean equal to the arrival rate.\n",
    "In this example, we will simulate a Poisson process with an arrival rate\n",
    "of 5.0 and plot the distribution of the actual number of arrivals in each\n",
    "time unit."
   ]
  },
  {
   "cell_type": "code",
   "execution_count": 3,
   "metadata": {},
   "outputs": [
    {
     "name": "stdout",
     "output_type": "stream",
     "text": [
      "5000\n",
      "10000\n",
      "15000\n",
      "20000\n",
      "25000\n",
      "30000\n",
      "35000\n",
      "40000\n",
      "45000\n",
      "50000\n",
      "50213\n"
     ]
    }
   ],
   "source": [
    "lambd = 5.0\n",
    "\n",
    "# Define a request with a simple process that simply marks the arrival\n",
    "# and prints a log message every 5000 arrivals\n",
    "class Request(sim.Component):\n",
    "    def process(self):\n",
    "        arrivals.tally(1) # If we had batch arrivals this would be the batch size\n",
    "        if arrivals.number_of_entries() % 5000 == 0:\n",
    "            print(arrivals.number_of_entries())\n",
    "\n",
    "# Define the simulation environment, using a default random seed of 1234567\n",
    "env = sim.Environment()\n",
    "\n",
    "# Define the arrival process as a ComponentGenerator.\n",
    "generator = sim.ComponentGenerator(Request, iat=sim.Exponential(rate=lambd))\n",
    "\n",
    "# Define a Monitor to record each arrival event.\n",
    "arrivals = sim.Monitor(name='arrivals', type='int8')\n",
    "\n",
    "# Run the simulation for 10 thousand time units and print the final number of arrivals.\n",
    "# Note Python ignores underscores in numeric values.\n",
    "env.run(till=10_000)\n",
    "print(arrivals.number_of_entries())\n"
   ]
  },
  {
   "cell_type": "markdown",
   "metadata": {},
   "source": [
    "Count the number of arrivals in each time interval 0..1, 1..2, etc.\n",
    "In this example, the probabiliy of an event occuring exactly upon an interval boundary is 0.\n",
    "\n",
    "To use pandas' resample() function, we interpret our timestamps as seconds from 1 Jan 2022."
   ]
  },
  {
   "cell_type": "code",
   "execution_count": 4,
   "metadata": {},
   "outputs": [
    {
     "data": {
      "text/html": [
       "<div>\n",
       "<style scoped>\n",
       "    .dataframe tbody tr th:only-of-type {\n",
       "        vertical-align: middle;\n",
       "    }\n",
       "\n",
       "    .dataframe tbody tr th {\n",
       "        vertical-align: top;\n",
       "    }\n",
       "\n",
       "    .dataframe thead th {\n",
       "        text-align: right;\n",
       "    }\n",
       "</style>\n",
       "<table border=\"1\" class=\"dataframe\">\n",
       "  <thead>\n",
       "    <tr style=\"text-align: right;\">\n",
       "      <th></th>\n",
       "      <th>time</th>\n",
       "      <th>count</th>\n",
       "    </tr>\n",
       "  </thead>\n",
       "  <tbody>\n",
       "    <tr>\n",
       "      <th>0</th>\n",
       "      <td>2022-01-01 00:00:00.660143360</td>\n",
       "      <td>1</td>\n",
       "    </tr>\n",
       "    <tr>\n",
       "      <th>1</th>\n",
       "      <td>2022-01-01 00:00:00.713910784</td>\n",
       "      <td>1</td>\n",
       "    </tr>\n",
       "    <tr>\n",
       "      <th>2</th>\n",
       "      <td>2022-01-01 00:00:00.888118528</td>\n",
       "      <td>1</td>\n",
       "    </tr>\n",
       "    <tr>\n",
       "      <th>3</th>\n",
       "      <td>2022-01-01 00:00:00.939541248</td>\n",
       "      <td>1</td>\n",
       "    </tr>\n",
       "    <tr>\n",
       "      <th>4</th>\n",
       "      <td>2022-01-01 00:00:01.619327488</td>\n",
       "      <td>1</td>\n",
       "    </tr>\n",
       "    <tr>\n",
       "      <th>...</th>\n",
       "      <td>...</td>\n",
       "      <td>...</td>\n",
       "    </tr>\n",
       "    <tr>\n",
       "      <th>50208</th>\n",
       "      <td>2022-01-01 02:46:37.971096320</td>\n",
       "      <td>1</td>\n",
       "    </tr>\n",
       "    <tr>\n",
       "      <th>50209</th>\n",
       "      <td>2022-01-01 02:46:39.030275072</td>\n",
       "      <td>1</td>\n",
       "    </tr>\n",
       "    <tr>\n",
       "      <th>50210</th>\n",
       "      <td>2022-01-01 02:46:39.257890816</td>\n",
       "      <td>1</td>\n",
       "    </tr>\n",
       "    <tr>\n",
       "      <th>50211</th>\n",
       "      <td>2022-01-01 02:46:39.463158784</td>\n",
       "      <td>1</td>\n",
       "    </tr>\n",
       "    <tr>\n",
       "      <th>50212</th>\n",
       "      <td>2022-01-01 02:46:39.638644480</td>\n",
       "      <td>1</td>\n",
       "    </tr>\n",
       "  </tbody>\n",
       "</table>\n",
       "<p>50213 rows × 2 columns</p>\n",
       "</div>"
      ],
      "text/plain": [
       "                               time  count\n",
       "0     2022-01-01 00:00:00.660143360      1\n",
       "1     2022-01-01 00:00:00.713910784      1\n",
       "2     2022-01-01 00:00:00.888118528      1\n",
       "3     2022-01-01 00:00:00.939541248      1\n",
       "4     2022-01-01 00:00:01.619327488      1\n",
       "...                             ...    ...\n",
       "50208 2022-01-01 02:46:37.971096320      1\n",
       "50209 2022-01-01 02:46:39.030275072      1\n",
       "50210 2022-01-01 02:46:39.257890816      1\n",
       "50211 2022-01-01 02:46:39.463158784      1\n",
       "50212 2022-01-01 02:46:39.638644480      1\n",
       "\n",
       "[50213 rows x 2 columns]"
      ]
     },
     "execution_count": 4,
     "metadata": {},
     "output_type": "execute_result"
    }
   ],
   "source": [
    "import pandas as pd\n",
    "\n",
    "t, x = arrivals.tx()\n",
    "df = pd.DataFrame(dict(time=t, count=x))\n",
    "\n",
    "# Convert to seconds from 1 Jan 2022\n",
    "df.time = pd.to_datetime(df.time, unit='s', origin=pd.Timestamp('2022-01-01'))\n",
    "\n",
    "df"
   ]
  },
  {
   "cell_type": "code",
   "execution_count": 5,
   "metadata": {},
   "outputs": [
    {
     "data": {
      "text/html": [
       "<div>\n",
       "<style scoped>\n",
       "    .dataframe tbody tr th:only-of-type {\n",
       "        vertical-align: middle;\n",
       "    }\n",
       "\n",
       "    .dataframe tbody tr th {\n",
       "        vertical-align: top;\n",
       "    }\n",
       "\n",
       "    .dataframe thead th {\n",
       "        text-align: right;\n",
       "    }\n",
       "</style>\n",
       "<table border=\"1\" class=\"dataframe\">\n",
       "  <thead>\n",
       "    <tr style=\"text-align: right;\">\n",
       "      <th></th>\n",
       "      <th>count</th>\n",
       "    </tr>\n",
       "    <tr>\n",
       "      <th>time</th>\n",
       "      <th></th>\n",
       "    </tr>\n",
       "  </thead>\n",
       "  <tbody>\n",
       "    <tr>\n",
       "      <th>2022-01-01 00:00:00</th>\n",
       "      <td>4</td>\n",
       "    </tr>\n",
       "    <tr>\n",
       "      <th>2022-01-01 00:00:01</th>\n",
       "      <td>4</td>\n",
       "    </tr>\n",
       "    <tr>\n",
       "      <th>2022-01-01 00:00:02</th>\n",
       "      <td>4</td>\n",
       "    </tr>\n",
       "    <tr>\n",
       "      <th>2022-01-01 00:00:03</th>\n",
       "      <td>2</td>\n",
       "    </tr>\n",
       "    <tr>\n",
       "      <th>2022-01-01 00:00:04</th>\n",
       "      <td>7</td>\n",
       "    </tr>\n",
       "    <tr>\n",
       "      <th>...</th>\n",
       "      <td>...</td>\n",
       "    </tr>\n",
       "    <tr>\n",
       "      <th>2022-01-01 02:46:35</th>\n",
       "      <td>3</td>\n",
       "    </tr>\n",
       "    <tr>\n",
       "      <th>2022-01-01 02:46:36</th>\n",
       "      <td>3</td>\n",
       "    </tr>\n",
       "    <tr>\n",
       "      <th>2022-01-01 02:46:37</th>\n",
       "      <td>4</td>\n",
       "    </tr>\n",
       "    <tr>\n",
       "      <th>2022-01-01 02:46:38</th>\n",
       "      <td>0</td>\n",
       "    </tr>\n",
       "    <tr>\n",
       "      <th>2022-01-01 02:46:39</th>\n",
       "      <td>4</td>\n",
       "    </tr>\n",
       "  </tbody>\n",
       "</table>\n",
       "<p>10000 rows × 1 columns</p>\n",
       "</div>"
      ],
      "text/plain": [
       "                     count\n",
       "time                      \n",
       "2022-01-01 00:00:00      4\n",
       "2022-01-01 00:00:01      4\n",
       "2022-01-01 00:00:02      4\n",
       "2022-01-01 00:00:03      2\n",
       "2022-01-01 00:00:04      7\n",
       "...                    ...\n",
       "2022-01-01 02:46:35      3\n",
       "2022-01-01 02:46:36      3\n",
       "2022-01-01 02:46:37      4\n",
       "2022-01-01 02:46:38      0\n",
       "2022-01-01 02:46:39      4\n",
       "\n",
       "[10000 rows x 1 columns]"
      ]
     },
     "execution_count": 5,
     "metadata": {},
     "output_type": "execute_result"
    }
   ],
   "source": [
    "# Compute number of arrival events in each second\n",
    "df2 = df.resample('S', on='time').sum()\n",
    "df2"
   ]
  },
  {
   "cell_type": "code",
   "execution_count": 6,
   "metadata": {},
   "outputs": [
    {
     "name": "stdout",
     "output_type": "stream",
     "text": [
      "array([4, 4, 4, ..., 4, 0, 4], dtype=int64)\n",
      "10000\n"
     ]
    }
   ],
   "source": [
    "counts = df2.loc[:,'count'].to_numpy()\n",
    "\n",
    "print(counts.__repr__())\n",
    "print(len(counts))"
   ]
  },
  {
   "cell_type": "markdown",
   "metadata": {},
   "source": [
    "The following code plots the simulated (empirical) and theoretical probability distributions of the number of arrivals in a time unit."
   ]
  },
  {
   "cell_type": "code",
   "execution_count": 7,
   "metadata": {},
   "outputs": [
    {
     "data": {
      "image/png": "[encoded data removed]",
      "text/plain": [
       "<Figure size 640x480 with 1 Axes>"
      ]
     },
     "metadata": {},
     "output_type": "display_data"
    }
   ],
   "source": [
    "from matplotlib import pyplot as plt\n",
    "from scipy.stats import poisson\n",
    "import numpy as np\n",
    "\n",
    "bins = np.arange(max(counts)+1) # 0 to max(counts) inclusive\n",
    "\n",
    "# Empirical probability mass function\n",
    "y, x = np.histogram(counts, bins=bins)\n",
    "y = y/np.sum(y) # Convert counts to probability mass\n",
    "plt.bar(x[:-1],y)\n",
    "\n",
    "# Theoretical probability mass function\n",
    "theoretical_dist = poisson(lambd)\n",
    "plt.plot(bins, [theoretical_dist.pmf(n) for n in bins], color='red')\n",
    "\n",
    "plt.show()"
   ]
  },
  {
   "cell_type": "code",
   "execution_count": null,
   "metadata": {},
   "outputs": [],
   "source": []
  }
 ],
 "metadata": {
  "kernelspec": {
   "display_name": "Python 3.10.7 64-bit (microsoft store)",
   "language": "python",
   "name": "python3"
  },
  "language_info": {
   "codemirror_mode": {
    "name": "ipython",
    "version": 3
   },
   "file_extension": ".py",
   "mimetype": "text/x-python",
   "name": "python",
   "nbconvert_exporter": "python",
   "pygments_lexer": "ipython3",
   "version": "3.10.7"
  },
  "orig_nbformat": 4,
  "vscode": {
   "interpreter": {
    "hash": "a7dbb88c84ecda04e2dfa8176cb6708abf8c95c32934f510df16d1a1f4945387"
   }
  }
 },
 "nbformat": 4,
 "nbformat_minor": 2
}
